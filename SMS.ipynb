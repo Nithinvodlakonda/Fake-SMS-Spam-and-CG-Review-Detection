{
 "cells": [
  {
   "cell_type": "code",
   "execution_count": 8,
   "id": "b82bcde7-537c-4b16-aaf2-50407cd23ab2",
   "metadata": {},
   "outputs": [],
   "source": [
    "import pandas as pd\n",
    "import numpy as np"
   ]
  },
  {
   "cell_type": "code",
   "execution_count": 9,
   "id": "7e6243aa-b214-4f32-843c-7463730bacca",
   "metadata": {},
   "outputs": [],
   "source": [
    "data = pd.read_csv(\"SMS_Spam_Ham.csv\")"
   ]
  },
  {
   "cell_type": "code",
   "execution_count": 10,
   "id": "759f827d-fefa-4108-b89b-33e0b147a2f2",
   "metadata": {},
   "outputs": [
    {
     "data": {
      "text/html": [
       "<div>\n",
       "<style scoped>\n",
       "    .dataframe tbody tr th:only-of-type {\n",
       "        vertical-align: middle;\n",
       "    }\n",
       "\n",
       "    .dataframe tbody tr th {\n",
       "        vertical-align: top;\n",
       "    }\n",
       "\n",
       "    .dataframe thead th {\n",
       "        text-align: right;\n",
       "    }\n",
       "</style>\n",
       "<table border=\"1\" class=\"dataframe\">\n",
       "  <thead>\n",
       "    <tr style=\"text-align: right;\">\n",
       "      <th></th>\n",
       "      <th>label</th>\n",
       "      <th>message</th>\n",
       "    </tr>\n",
       "  </thead>\n",
       "  <tbody>\n",
       "    <tr>\n",
       "      <th>0</th>\n",
       "      <td>ham</td>\n",
       "      <td>Hey John, are you free for a quick chat later ...</td>\n",
       "    </tr>\n",
       "    <tr>\n",
       "      <th>1</th>\n",
       "      <td>spam</td>\n",
       "      <td>WINNER! You've won a free iPhone 15! Claim now...</td>\n",
       "    </tr>\n",
       "    <tr>\n",
       "      <th>2</th>\n",
       "      <td>ham</td>\n",
       "      <td>Don't forget to pick up milk on your way home.</td>\n",
       "    </tr>\n",
       "    <tr>\n",
       "      <th>3</th>\n",
       "      <td>spam</td>\n",
       "      <td>URGENT: Your bank account has been suspended. ...</td>\n",
       "    </tr>\n",
       "    <tr>\n",
       "      <th>4</th>\n",
       "      <td>ham</td>\n",
       "      <td>Okay, sounds good. See you at 7 PM for dinner.</td>\n",
       "    </tr>\n",
       "    <tr>\n",
       "      <th>...</th>\n",
       "      <td>...</td>\n",
       "      <td>...</td>\n",
       "    </tr>\n",
       "    <tr>\n",
       "      <th>4319</th>\n",
       "      <td>spam</td>\n",
       "      <td>Your lucky number has won £55,000! Call 0907xx...</td>\n",
       "    </tr>\n",
       "    <tr>\n",
       "      <th>4320</th>\n",
       "      <td>spam</td>\n",
       "      <td>Urgent: Your online identity has been stolen. ...</td>\n",
       "    </tr>\n",
       "    <tr>\n",
       "      <th>4321</th>\n",
       "      <td>spam</td>\n",
       "      <td>Get a FREE luxury gaming PC! Just answer a few...</td>\n",
       "    </tr>\n",
       "    <tr>\n",
       "      <th>4322</th>\n",
       "      <td>spam</td>\n",
       "      <td>Your bank transaction security has expired. Ge...</td>\n",
       "    </tr>\n",
       "    <tr>\n",
       "      <th>4323</th>\n",
       "      <td>spam</td>\n",
       "      <td>Congratulations! You've received a special rew...</td>\n",
       "    </tr>\n",
       "  </tbody>\n",
       "</table>\n",
       "<p>4324 rows × 2 columns</p>\n",
       "</div>"
      ],
      "text/plain": [
       "     label                                            message\n",
       "0      ham  Hey John, are you free for a quick chat later ...\n",
       "1     spam  WINNER! You've won a free iPhone 15! Claim now...\n",
       "2      ham     Don't forget to pick up milk on your way home.\n",
       "3     spam  URGENT: Your bank account has been suspended. ...\n",
       "4      ham     Okay, sounds good. See you at 7 PM for dinner.\n",
       "...    ...                                                ...\n",
       "4319  spam  Your lucky number has won £55,000! Call 0907xx...\n",
       "4320  spam  Urgent: Your online identity has been stolen. ...\n",
       "4321  spam  Get a FREE luxury gaming PC! Just answer a few...\n",
       "4322  spam  Your bank transaction security has expired. Ge...\n",
       "4323  spam  Congratulations! You've received a special rew...\n",
       "\n",
       "[4324 rows x 2 columns]"
      ]
     },
     "execution_count": 10,
     "metadata": {},
     "output_type": "execute_result"
    }
   ],
   "source": [
    "data"
   ]
  },
  {
   "cell_type": "code",
   "execution_count": 11,
   "id": "fc378901-9a97-4544-8ffa-88aace13bec2",
   "metadata": {},
   "outputs": [
    {
     "data": {
      "text/html": [
       "<div>\n",
       "<style scoped>\n",
       "    .dataframe tbody tr th:only-of-type {\n",
       "        vertical-align: middle;\n",
       "    }\n",
       "\n",
       "    .dataframe tbody tr th {\n",
       "        vertical-align: top;\n",
       "    }\n",
       "\n",
       "    .dataframe thead th {\n",
       "        text-align: right;\n",
       "    }\n",
       "</style>\n",
       "<table border=\"1\" class=\"dataframe\">\n",
       "  <thead>\n",
       "    <tr style=\"text-align: right;\">\n",
       "      <th></th>\n",
       "      <th>label</th>\n",
       "      <th>message</th>\n",
       "    </tr>\n",
       "  </thead>\n",
       "  <tbody>\n",
       "    <tr>\n",
       "      <th>0</th>\n",
       "      <td>ham</td>\n",
       "      <td>Hey John, are you free for a quick chat later ...</td>\n",
       "    </tr>\n",
       "    <tr>\n",
       "      <th>1</th>\n",
       "      <td>spam</td>\n",
       "      <td>WINNER! You've won a free iPhone 15! Claim now...</td>\n",
       "    </tr>\n",
       "    <tr>\n",
       "      <th>2</th>\n",
       "      <td>ham</td>\n",
       "      <td>Don't forget to pick up milk on your way home.</td>\n",
       "    </tr>\n",
       "    <tr>\n",
       "      <th>3</th>\n",
       "      <td>spam</td>\n",
       "      <td>URGENT: Your bank account has been suspended. ...</td>\n",
       "    </tr>\n",
       "    <tr>\n",
       "      <th>4</th>\n",
       "      <td>ham</td>\n",
       "      <td>Okay, sounds good. See you at 7 PM for dinner.</td>\n",
       "    </tr>\n",
       "  </tbody>\n",
       "</table>\n",
       "</div>"
      ],
      "text/plain": [
       "  label                                            message\n",
       "0   ham  Hey John, are you free for a quick chat later ...\n",
       "1  spam  WINNER! You've won a free iPhone 15! Claim now...\n",
       "2   ham     Don't forget to pick up milk on your way home.\n",
       "3  spam  URGENT: Your bank account has been suspended. ...\n",
       "4   ham     Okay, sounds good. See you at 7 PM for dinner."
      ]
     },
     "execution_count": 11,
     "metadata": {},
     "output_type": "execute_result"
    }
   ],
   "source": [
    "data.head()"
   ]
  },
  {
   "cell_type": "code",
   "execution_count": 12,
   "id": "e0b90a4f-0557-458f-9b98-ff687ab87161",
   "metadata": {},
   "outputs": [
    {
     "data": {
      "text/html": [
       "<div>\n",
       "<style scoped>\n",
       "    .dataframe tbody tr th:only-of-type {\n",
       "        vertical-align: middle;\n",
       "    }\n",
       "\n",
       "    .dataframe tbody tr th {\n",
       "        vertical-align: top;\n",
       "    }\n",
       "\n",
       "    .dataframe thead th {\n",
       "        text-align: right;\n",
       "    }\n",
       "</style>\n",
       "<table border=\"1\" class=\"dataframe\">\n",
       "  <thead>\n",
       "    <tr style=\"text-align: right;\">\n",
       "      <th></th>\n",
       "      <th>label</th>\n",
       "      <th>message</th>\n",
       "    </tr>\n",
       "  </thead>\n",
       "  <tbody>\n",
       "    <tr>\n",
       "      <th>4319</th>\n",
       "      <td>spam</td>\n",
       "      <td>Your lucky number has won £55,000! Call 0907xx...</td>\n",
       "    </tr>\n",
       "    <tr>\n",
       "      <th>4320</th>\n",
       "      <td>spam</td>\n",
       "      <td>Urgent: Your online identity has been stolen. ...</td>\n",
       "    </tr>\n",
       "    <tr>\n",
       "      <th>4321</th>\n",
       "      <td>spam</td>\n",
       "      <td>Get a FREE luxury gaming PC! Just answer a few...</td>\n",
       "    </tr>\n",
       "    <tr>\n",
       "      <th>4322</th>\n",
       "      <td>spam</td>\n",
       "      <td>Your bank transaction security has expired. Ge...</td>\n",
       "    </tr>\n",
       "    <tr>\n",
       "      <th>4323</th>\n",
       "      <td>spam</td>\n",
       "      <td>Congratulations! You've received a special rew...</td>\n",
       "    </tr>\n",
       "  </tbody>\n",
       "</table>\n",
       "</div>"
      ],
      "text/plain": [
       "     label                                            message\n",
       "4319  spam  Your lucky number has won £55,000! Call 0907xx...\n",
       "4320  spam  Urgent: Your online identity has been stolen. ...\n",
       "4321  spam  Get a FREE luxury gaming PC! Just answer a few...\n",
       "4322  spam  Your bank transaction security has expired. Ge...\n",
       "4323  spam  Congratulations! You've received a special rew..."
      ]
     },
     "execution_count": 12,
     "metadata": {},
     "output_type": "execute_result"
    }
   ],
   "source": [
    "data.tail()"
   ]
  },
  {
   "cell_type": "code",
   "execution_count": 13,
   "id": "c6e8f8fa-4db3-4544-b4fc-00f4a9a7d372",
   "metadata": {},
   "outputs": [
    {
     "data": {
      "text/plain": [
       "(4324, 2)"
      ]
     },
     "execution_count": 13,
     "metadata": {},
     "output_type": "execute_result"
    }
   ],
   "source": [
    "data.shape"
   ]
  },
  {
   "cell_type": "code",
   "execution_count": 14,
   "id": "7081082a-00d3-4689-9014-7fe5b4848213",
   "metadata": {},
   "outputs": [
    {
     "name": "stdout",
     "output_type": "stream",
     "text": [
      "<class 'pandas.core.frame.DataFrame'>\n",
      "RangeIndex: 4324 entries, 0 to 4323\n",
      "Data columns (total 2 columns):\n",
      " #   Column   Non-Null Count  Dtype \n",
      "---  ------   --------------  ----- \n",
      " 0   label    4324 non-null   object\n",
      " 1   message  4324 non-null   object\n",
      "dtypes: object(2)\n",
      "memory usage: 67.7+ KB\n"
     ]
    }
   ],
   "source": [
    "data.info()"
   ]
  },
  {
   "cell_type": "code",
   "execution_count": 15,
   "id": "86ff8325-df5f-4643-9a24-9774b90bc8d0",
   "metadata": {},
   "outputs": [
    {
     "data": {
      "text/plain": [
       "np.int64(471)"
      ]
     },
     "execution_count": 15,
     "metadata": {},
     "output_type": "execute_result"
    }
   ],
   "source": [
    "data.duplicated().sum()"
   ]
  },
  {
   "cell_type": "code",
   "execution_count": 16,
   "id": "d1d5ce44-1ba3-4a35-93a8-a01ef706e1b5",
   "metadata": {},
   "outputs": [],
   "source": [
    "data=data.drop_duplicates(subset=['message'])"
   ]
  },
  {
   "cell_type": "code",
   "execution_count": 18,
   "id": "769b798b-1d60-4497-b78c-7fa84a7fdf63",
   "metadata": {},
   "outputs": [
    {
     "data": {
      "text/plain": [
       "np.int64(0)"
      ]
     },
     "execution_count": 18,
     "metadata": {},
     "output_type": "execute_result"
    }
   ],
   "source": [
    "data.duplicated().sum()"
   ]
  },
  {
   "cell_type": "code",
   "execution_count": 19,
   "id": "75e73027-a761-434f-9a72-e4c3943801b4",
   "metadata": {},
   "outputs": [
    {
     "data": {
      "text/html": [
       "<div>\n",
       "<style scoped>\n",
       "    .dataframe tbody tr th:only-of-type {\n",
       "        vertical-align: middle;\n",
       "    }\n",
       "\n",
       "    .dataframe tbody tr th {\n",
       "        vertical-align: top;\n",
       "    }\n",
       "\n",
       "    .dataframe thead th {\n",
       "        text-align: right;\n",
       "    }\n",
       "</style>\n",
       "<table border=\"1\" class=\"dataframe\">\n",
       "  <thead>\n",
       "    <tr style=\"text-align: right;\">\n",
       "      <th></th>\n",
       "      <th>label</th>\n",
       "      <th>message</th>\n",
       "    </tr>\n",
       "  </thead>\n",
       "  <tbody>\n",
       "    <tr>\n",
       "      <th>0</th>\n",
       "      <td>ham</td>\n",
       "      <td>Hey John, are you free for a quick chat later ...</td>\n",
       "    </tr>\n",
       "    <tr>\n",
       "      <th>1</th>\n",
       "      <td>spam</td>\n",
       "      <td>WINNER! You've won a free iPhone 15! Claim now...</td>\n",
       "    </tr>\n",
       "    <tr>\n",
       "      <th>2</th>\n",
       "      <td>ham</td>\n",
       "      <td>Don't forget to pick up milk on your way home.</td>\n",
       "    </tr>\n",
       "    <tr>\n",
       "      <th>3</th>\n",
       "      <td>spam</td>\n",
       "      <td>URGENT: Your bank account has been suspended. ...</td>\n",
       "    </tr>\n",
       "    <tr>\n",
       "      <th>4</th>\n",
       "      <td>ham</td>\n",
       "      <td>Okay, sounds good. See you at 7 PM for dinner.</td>\n",
       "    </tr>\n",
       "    <tr>\n",
       "      <th>...</th>\n",
       "      <td>...</td>\n",
       "      <td>...</td>\n",
       "    </tr>\n",
       "    <tr>\n",
       "      <th>4319</th>\n",
       "      <td>spam</td>\n",
       "      <td>Your lucky number has won £55,000! Call 0907xx...</td>\n",
       "    </tr>\n",
       "    <tr>\n",
       "      <th>4320</th>\n",
       "      <td>spam</td>\n",
       "      <td>Urgent: Your online identity has been stolen. ...</td>\n",
       "    </tr>\n",
       "    <tr>\n",
       "      <th>4321</th>\n",
       "      <td>spam</td>\n",
       "      <td>Get a FREE luxury gaming PC! Just answer a few...</td>\n",
       "    </tr>\n",
       "    <tr>\n",
       "      <th>4322</th>\n",
       "      <td>spam</td>\n",
       "      <td>Your bank transaction security has expired. Ge...</td>\n",
       "    </tr>\n",
       "    <tr>\n",
       "      <th>4323</th>\n",
       "      <td>spam</td>\n",
       "      <td>Congratulations! You've received a special rew...</td>\n",
       "    </tr>\n",
       "  </tbody>\n",
       "</table>\n",
       "<p>3853 rows × 2 columns</p>\n",
       "</div>"
      ],
      "text/plain": [
       "     label                                            message\n",
       "0      ham  Hey John, are you free for a quick chat later ...\n",
       "1     spam  WINNER! You've won a free iPhone 15! Claim now...\n",
       "2      ham     Don't forget to pick up milk on your way home.\n",
       "3     spam  URGENT: Your bank account has been suspended. ...\n",
       "4      ham     Okay, sounds good. See you at 7 PM for dinner.\n",
       "...    ...                                                ...\n",
       "4319  spam  Your lucky number has won £55,000! Call 0907xx...\n",
       "4320  spam  Urgent: Your online identity has been stolen. ...\n",
       "4321  spam  Get a FREE luxury gaming PC! Just answer a few...\n",
       "4322  spam  Your bank transaction security has expired. Ge...\n",
       "4323  spam  Congratulations! You've received a special rew...\n",
       "\n",
       "[3853 rows x 2 columns]"
      ]
     },
     "execution_count": 19,
     "metadata": {},
     "output_type": "execute_result"
    }
   ],
   "source": [
    "data"
   ]
  },
  {
   "cell_type": "code",
   "execution_count": 20,
   "id": "b20237e2-1aa3-4331-84d9-454ae9fdf2aa",
   "metadata": {},
   "outputs": [
    {
     "name": "stdout",
     "output_type": "stream",
     "text": [
      "label\n",
      "ham     2310\n",
      "spam    1543\n",
      "Name: count, dtype: int64\n"
     ]
    }
   ],
   "source": [
    "print(data['label'].value_counts())"
   ]
  },
  {
   "cell_type": "code",
   "execution_count": 23,
   "id": "76ec545e-7f4d-4dcd-b86e-2af0e3a1c12b",
   "metadata": {},
   "outputs": [
    {
     "name": "stderr",
     "output_type": "stream",
     "text": [
      "C:\\Users\\vodla\\AppData\\Local\\Temp\\ipykernel_31132\\92712812.py:3: SettingWithCopyWarning: \n",
      "A value is trying to be set on a copy of a slice from a DataFrame.\n",
      "Try using .loc[row_indexer,col_indexer] = value instead\n",
      "\n",
      "See the caveats in the documentation: https://pandas.pydata.org/pandas-docs/stable/user_guide/indexing.html#returning-a-view-versus-a-copy\n",
      "  data['label']=el.fit_transform(data['label'])\n"
     ]
    }
   ],
   "source": [
    "from sklearn.preprocessing import LabelEncoder\n",
    "el=LabelEncoder()\n",
    "data['label']=el.fit_transform(data['label'])\n",
    "# Convert categorical labels ('ham', 'spam') into numeric format \n",
    "# Required for training classification models with scikit-learn"
   ]
  },
  {
   "cell_type": "code",
   "execution_count": 24,
   "id": "c18899d6-1da6-4b33-b16b-e13117ba4c7f",
   "metadata": {},
   "outputs": [
    {
     "data": {
      "text/html": [
       "<div>\n",
       "<style scoped>\n",
       "    .dataframe tbody tr th:only-of-type {\n",
       "        vertical-align: middle;\n",
       "    }\n",
       "\n",
       "    .dataframe tbody tr th {\n",
       "        vertical-align: top;\n",
       "    }\n",
       "\n",
       "    .dataframe thead th {\n",
       "        text-align: right;\n",
       "    }\n",
       "</style>\n",
       "<table border=\"1\" class=\"dataframe\">\n",
       "  <thead>\n",
       "    <tr style=\"text-align: right;\">\n",
       "      <th></th>\n",
       "      <th>label</th>\n",
       "      <th>message</th>\n",
       "    </tr>\n",
       "  </thead>\n",
       "  <tbody>\n",
       "    <tr>\n",
       "      <th>0</th>\n",
       "      <td>0</td>\n",
       "      <td>Hey John, are you free for a quick chat later ...</td>\n",
       "    </tr>\n",
       "    <tr>\n",
       "      <th>1</th>\n",
       "      <td>1</td>\n",
       "      <td>WINNER! You've won a free iPhone 15! Claim now...</td>\n",
       "    </tr>\n",
       "    <tr>\n",
       "      <th>2</th>\n",
       "      <td>0</td>\n",
       "      <td>Don't forget to pick up milk on your way home.</td>\n",
       "    </tr>\n",
       "    <tr>\n",
       "      <th>3</th>\n",
       "      <td>1</td>\n",
       "      <td>URGENT: Your bank account has been suspended. ...</td>\n",
       "    </tr>\n",
       "    <tr>\n",
       "      <th>4</th>\n",
       "      <td>0</td>\n",
       "      <td>Okay, sounds good. See you at 7 PM for dinner.</td>\n",
       "    </tr>\n",
       "    <tr>\n",
       "      <th>...</th>\n",
       "      <td>...</td>\n",
       "      <td>...</td>\n",
       "    </tr>\n",
       "    <tr>\n",
       "      <th>4319</th>\n",
       "      <td>1</td>\n",
       "      <td>Your lucky number has won £55,000! Call 0907xx...</td>\n",
       "    </tr>\n",
       "    <tr>\n",
       "      <th>4320</th>\n",
       "      <td>1</td>\n",
       "      <td>Urgent: Your online identity has been stolen. ...</td>\n",
       "    </tr>\n",
       "    <tr>\n",
       "      <th>4321</th>\n",
       "      <td>1</td>\n",
       "      <td>Get a FREE luxury gaming PC! Just answer a few...</td>\n",
       "    </tr>\n",
       "    <tr>\n",
       "      <th>4322</th>\n",
       "      <td>1</td>\n",
       "      <td>Your bank transaction security has expired. Ge...</td>\n",
       "    </tr>\n",
       "    <tr>\n",
       "      <th>4323</th>\n",
       "      <td>1</td>\n",
       "      <td>Congratulations! You've received a special rew...</td>\n",
       "    </tr>\n",
       "  </tbody>\n",
       "</table>\n",
       "<p>3853 rows × 2 columns</p>\n",
       "</div>"
      ],
      "text/plain": [
       "      label                                            message\n",
       "0         0  Hey John, are you free for a quick chat later ...\n",
       "1         1  WINNER! You've won a free iPhone 15! Claim now...\n",
       "2         0     Don't forget to pick up milk on your way home.\n",
       "3         1  URGENT: Your bank account has been suspended. ...\n",
       "4         0     Okay, sounds good. See you at 7 PM for dinner.\n",
       "...     ...                                                ...\n",
       "4319      1  Your lucky number has won £55,000! Call 0907xx...\n",
       "4320      1  Urgent: Your online identity has been stolen. ...\n",
       "4321      1  Get a FREE luxury gaming PC! Just answer a few...\n",
       "4322      1  Your bank transaction security has expired. Ge...\n",
       "4323      1  Congratulations! You've received a special rew...\n",
       "\n",
       "[3853 rows x 2 columns]"
      ]
     },
     "execution_count": 24,
     "metadata": {},
     "output_type": "execute_result"
    }
   ],
   "source": [
    "data"
   ]
  },
  {
   "cell_type": "code",
   "execution_count": 25,
   "id": "f0c1b17f",
   "metadata": {},
   "outputs": [
    {
     "name": "stdout",
     "output_type": "stream",
     "text": [
      "label\n",
      "0    2310\n",
      "1    1543\n",
      "Name: count, dtype: int64\n"
     ]
    }
   ],
   "source": [
    "print(data['label'].value_counts())"
   ]
  },
  {
   "cell_type": "code",
   "execution_count": 26,
   "id": "9a5156a9-b68a-402d-b338-9843eb140bda",
   "metadata": {},
   "outputs": [
    {
     "name": "stderr",
     "output_type": "stream",
     "text": [
      "C:\\Users\\vodla\\AppData\\Local\\Temp\\ipykernel_31132\\1093075674.py:25: SettingWithCopyWarning: \n",
      "A value is trying to be set on a copy of a slice from a DataFrame.\n",
      "Try using .loc[row_indexer,col_indexer] = value instead\n",
      "\n",
      "See the caveats in the documentation: https://pandas.pydata.org/pandas-docs/stable/user_guide/indexing.html#returning-a-view-versus-a-copy\n",
      "  data['message'] = data['message'].apply(clean_text)\n"
     ]
    }
   ],
   "source": [
    "# Text preprocessing function to clean raw text data:\n",
    "import string\n",
    "import re\n",
    "from nltk.corpus import stopwords\n",
    "from nltk.stem import PorterStemmer\n",
    "\n",
    "ps = PorterStemmer()\n",
    "stop_words = set(stopwords.words('english'))\n",
    "\n",
    "def clean_text(text):\n",
    "    # - Converts text to lowercase\n",
    "    text = text.lower()  \n",
    "    # Remove digits\n",
    "    text = re.sub(r'\\d+', '', text)\n",
    "    # - Removes punctuation and digits\n",
    "    text = text.translate(str.maketrans('', '', string.punctuation))  \n",
    "    # - Strips leading/trailing spaces\n",
    "    text = text.strip() \n",
    "    # - Tokenizes and removes stopwords \n",
    "    words = text.split()\n",
    "    # - Applies stemming using PorterStemmer\n",
    "    words = [ps.stem(word) for word in words if word not in stop_words]  \n",
    "    return \" \".join(words)\n",
    "\n",
    "data['message'] = data['message'].apply(clean_text)\n"
   ]
  },
  {
   "cell_type": "code",
   "execution_count": 27,
   "id": "5c663457",
   "metadata": {},
   "outputs": [
    {
     "data": {
      "text/html": [
       "<div>\n",
       "<style scoped>\n",
       "    .dataframe tbody tr th:only-of-type {\n",
       "        vertical-align: middle;\n",
       "    }\n",
       "\n",
       "    .dataframe tbody tr th {\n",
       "        vertical-align: top;\n",
       "    }\n",
       "\n",
       "    .dataframe thead th {\n",
       "        text-align: right;\n",
       "    }\n",
       "</style>\n",
       "<table border=\"1\" class=\"dataframe\">\n",
       "  <thead>\n",
       "    <tr style=\"text-align: right;\">\n",
       "      <th></th>\n",
       "      <th>label</th>\n",
       "      <th>message</th>\n",
       "    </tr>\n",
       "  </thead>\n",
       "  <tbody>\n",
       "    <tr>\n",
       "      <th>0</th>\n",
       "      <td>0</td>\n",
       "      <td>hey john free quick chat later today</td>\n",
       "    </tr>\n",
       "    <tr>\n",
       "      <th>1</th>\n",
       "      <td>1</td>\n",
       "      <td>winner youv free iphon claim bitlyfreeprizexyz</td>\n",
       "    </tr>\n",
       "    <tr>\n",
       "      <th>2</th>\n",
       "      <td>0</td>\n",
       "      <td>dont forget pick milk way home</td>\n",
       "    </tr>\n",
       "    <tr>\n",
       "      <th>3</th>\n",
       "      <td>1</td>\n",
       "      <td>urgent bank account suspend verifi securebankl...</td>\n",
       "    </tr>\n",
       "    <tr>\n",
       "      <th>4</th>\n",
       "      <td>0</td>\n",
       "      <td>okay sound good see pm dinner</td>\n",
       "    </tr>\n",
       "    <tr>\n",
       "      <th>...</th>\n",
       "      <td>...</td>\n",
       "      <td>...</td>\n",
       "    </tr>\n",
       "    <tr>\n",
       "      <th>4319</th>\n",
       "      <td>1</td>\n",
       "      <td>lucki number £ call xxxxxxx collect</td>\n",
       "    </tr>\n",
       "    <tr>\n",
       "      <th>4320</th>\n",
       "      <td>1</td>\n",
       "      <td>urgent onlin ident stolen secur linkcomidentit...</td>\n",
       "    </tr>\n",
       "    <tr>\n",
       "      <th>4321</th>\n",
       "      <td>1</td>\n",
       "      <td>get free luxuri game pc answer question linkco...</td>\n",
       "    </tr>\n",
       "    <tr>\n",
       "      <th>4322</th>\n",
       "      <td>1</td>\n",
       "      <td>bank transact secur expir gener new code linkc...</td>\n",
       "    </tr>\n",
       "    <tr>\n",
       "      <th>4323</th>\n",
       "      <td>1</td>\n",
       "      <td>congratul youv receiv special reward £ redeem ...</td>\n",
       "    </tr>\n",
       "  </tbody>\n",
       "</table>\n",
       "<p>3853 rows × 2 columns</p>\n",
       "</div>"
      ],
      "text/plain": [
       "      label                                            message\n",
       "0         0               hey john free quick chat later today\n",
       "1         1     winner youv free iphon claim bitlyfreeprizexyz\n",
       "2         0                     dont forget pick milk way home\n",
       "3         1  urgent bank account suspend verifi securebankl...\n",
       "4         0                      okay sound good see pm dinner\n",
       "...     ...                                                ...\n",
       "4319      1                lucki number £ call xxxxxxx collect\n",
       "4320      1  urgent onlin ident stolen secur linkcomidentit...\n",
       "4321      1  get free luxuri game pc answer question linkco...\n",
       "4322      1  bank transact secur expir gener new code linkc...\n",
       "4323      1  congratul youv receiv special reward £ redeem ...\n",
       "\n",
       "[3853 rows x 2 columns]"
      ]
     },
     "execution_count": 27,
     "metadata": {},
     "output_type": "execute_result"
    }
   ],
   "source": [
    "data"
   ]
  },
  {
   "cell_type": "code",
   "execution_count": 31,
   "id": "b8868636-bda3-4a2b-b591-8ddae0cdd582",
   "metadata": {},
   "outputs": [],
   "source": [
    "from sklearn.feature_extraction.text import TfidfVectorizer\n",
    "import numpy as np \n",
    "# Convert text reviews into TF-IDF feature vectors using the top 1,200 most frequent words\n",
    "vectorizer = TfidfVectorizer(max_features=1200)\n",
    "# Transform the cleaned 'review' text into a dense NumPy array\n",
    "X = vectorizer.fit_transform(data['message']).toarray()\n",
    "# Target labels (already label-encoded earlier)\n",
    "y = data['label']"
   ]
  },
  {
   "cell_type": "code",
   "execution_count": 32,
   "id": "8a5a4c63",
   "metadata": {},
   "outputs": [
    {
     "data": {
      "text/plain": [
       "array([[0.        , 0.        , 0.        , ..., 0.        , 0.        ,\n",
       "        0.        ],\n",
       "       [0.        , 0.        , 0.        , ..., 0.        , 0.        ,\n",
       "        0.31378908],\n",
       "       [0.        , 0.        , 0.        , ..., 0.        , 0.        ,\n",
       "        0.        ],\n",
       "       ...,\n",
       "       [0.        , 0.        , 0.        , ..., 0.        , 0.        ,\n",
       "        0.        ],\n",
       "       [0.        , 0.        , 0.        , ..., 0.        , 0.        ,\n",
       "        0.        ],\n",
       "       [0.        , 0.        , 0.        , ..., 0.        , 0.        ,\n",
       "        0.29014631]], shape=(3853, 1200))"
      ]
     },
     "execution_count": 32,
     "metadata": {},
     "output_type": "execute_result"
    }
   ],
   "source": [
    "X"
   ]
  },
  {
   "cell_type": "code",
   "execution_count": 33,
   "id": "9d2ec956",
   "metadata": {},
   "outputs": [
    {
     "data": {
      "text/plain": [
       "0       0\n",
       "1       1\n",
       "2       0\n",
       "3       1\n",
       "4       0\n",
       "       ..\n",
       "4319    1\n",
       "4320    1\n",
       "4321    1\n",
       "4322    1\n",
       "4323    1\n",
       "Name: label, Length: 3853, dtype: int64"
      ]
     },
     "execution_count": 33,
     "metadata": {},
     "output_type": "execute_result"
    }
   ],
   "source": [
    "y"
   ]
  },
  {
   "cell_type": "code",
   "execution_count": null,
   "id": "40c63ff5-d854-4a9c-a842-25618546325b",
   "metadata": {},
   "outputs": [],
   "source": [
    "from sklearn.model_selection import train_test_split\n",
    "# Split the dataset into training and testing sets (80% train, 20% test)\n",
    "# Setting random_state ensures the split is reproducible\n",
    "X_train, X_test, y_train, y_test = train_test_split(X, y, test_size=0.2, random_state=42)"
   ]
  },
  {
   "cell_type": "code",
   "execution_count": 36,
   "id": "4788bfb9-bfc3-4126-b4bd-76b4908b49d8",
   "metadata": {},
   "outputs": [],
   "source": [
    "from sklearn.naive_bayes import MultinomialNB\n",
    "from sklearn.linear_model import LogisticRegression\n",
    "from sklearn.svm import LinearSVC\n",
    "from sklearn.ensemble import RandomForestClassifier\n",
    "from sklearn.neighbors import KNeighborsClassifier\n",
    "from sklearn.ensemble import ExtraTreesClassifier\n",
    "from sklearn.ensemble import HistGradientBoostingClassifier\n",
    "from sklearn.metrics import classification_report, accuracy_score"
   ]
  },
  {
   "cell_type": "code",
   "execution_count": 37,
   "id": "855766ef",
   "metadata": {},
   "outputs": [
    {
     "name": "stdout",
     "output_type": "stream",
     "text": [
      " Naive Bayes Accuracy : 0.9753566796368353\n",
      "Classification Report:\n",
      "              precision    recall  f1-score   support\n",
      "\n",
      "           0       0.99      0.97      0.98       475\n",
      "           1       0.96      0.98      0.97       296\n",
      "\n",
      "    accuracy                           0.98       771\n",
      "   macro avg       0.97      0.98      0.97       771\n",
      "weighted avg       0.98      0.98      0.98       771\n",
      "\n"
     ]
    }
   ],
   "source": [
    "# Train a Multinomial Naive Bayes classifier\n",
    "model1=MultinomialNB()\n",
    "model1.fit(X_train,y_train)\n",
    "# Predict on test data\n",
    "y_pred1=model1.predict(X_test)\n",
    "# Evaluate performance\n",
    "acc1=accuracy_score(y_test,y_pred1)\n",
    "print(f\" Naive Bayes Accuracy : {acc1}\")\n",
    "print(\"Classification Report:\")\n",
    "print(classification_report(y_test,y_pred1))"
   ]
  },
  {
   "cell_type": "code",
   "execution_count": 38,
   "id": "8bcba90a",
   "metadata": {},
   "outputs": [
    {
     "name": "stdout",
     "output_type": "stream",
     "text": [
      " Logistic Regression Accuracy : 0.9818417639429312\n",
      "Classification Report:\n",
      "              precision    recall  f1-score   support\n",
      "\n",
      "           0       0.99      0.98      0.99       475\n",
      "           1       0.97      0.98      0.98       296\n",
      "\n",
      "    accuracy                           0.98       771\n",
      "   macro avg       0.98      0.98      0.98       771\n",
      "weighted avg       0.98      0.98      0.98       771\n",
      "\n"
     ]
    }
   ],
   "source": [
    "# Train a Logistic Regression classifier\n",
    "model2= LogisticRegression()\n",
    "model2.fit(X_train,y_train)\n",
    "# Predict on test data\n",
    "y_pred2=model2.predict(X_test)\n",
    "# Evaluate performance\n",
    "acc2=accuracy_score(y_test,y_pred2)\n",
    "print(f\" Logistic Regression Accuracy : {acc2}\")\n",
    "print(\"Classification Report:\")\n",
    "print(classification_report(y_test,y_pred2))"
   ]
  },
  {
   "cell_type": "code",
   "execution_count": 39,
   "id": "a7634c72",
   "metadata": {},
   "outputs": [
    {
     "name": "stdout",
     "output_type": "stream",
     "text": [
      " SVM Accuracy : 0.9922178988326849\n",
      "Classification Report:\n",
      "              precision    recall  f1-score   support\n",
      "\n",
      "           0       0.99      0.99      0.99       475\n",
      "           1       0.99      0.99      0.99       296\n",
      "\n",
      "    accuracy                           0.99       771\n",
      "   macro avg       0.99      0.99      0.99       771\n",
      "weighted avg       0.99      0.99      0.99       771\n",
      "\n"
     ]
    }
   ],
   "source": [
    "# Train a Linear SVM model\n",
    "model3=LinearSVC()\n",
    "model3.fit(X_train,y_train)\n",
    "# Predict on test data\n",
    "y_pred3=model3.predict(X_test)\n",
    "# Evaluate performance\n",
    "acc3=accuracy_score(y_test,y_pred3)\n",
    "print(f\" SVM Accuracy : {acc3}\")\n",
    "print(\"Classification Report:\")\n",
    "print(classification_report(y_test,y_pred3))"
   ]
  },
  {
   "cell_type": "code",
   "execution_count": 40,
   "id": "4f573d57",
   "metadata": {},
   "outputs": [
    {
     "name": "stdout",
     "output_type": "stream",
     "text": [
      " Random Forest Accuracy : 0.9857328145265889\n",
      "Classification Report:\n",
      "              precision    recall  f1-score   support\n",
      "\n",
      "           0       0.99      0.99      0.99       475\n",
      "           1       0.98      0.98      0.98       296\n",
      "\n",
      "    accuracy                           0.99       771\n",
      "   macro avg       0.98      0.99      0.98       771\n",
      "weighted avg       0.99      0.99      0.99       771\n",
      "\n"
     ]
    }
   ],
   "source": [
    "# Train a Random Forest model\n",
    "model4=RandomForestClassifier()\n",
    "model4.fit(X_train,y_train)\n",
    "# Predict on test data\n",
    "y_pred4=model4.predict(X_test)\n",
    "# Evaluate performance\n",
    "acc4=accuracy_score(y_test,y_pred4)\n",
    "print(f\" Random Forest Accuracy : {acc4}\")\n",
    "print(\"Classification Report:\")\n",
    "print(classification_report(y_test,y_pred4))"
   ]
  },
  {
   "cell_type": "code",
   "execution_count": 41,
   "id": "8c13a395",
   "metadata": {},
   "outputs": [
    {
     "name": "stdout",
     "output_type": "stream",
     "text": [
      " KNN Accuracy : 0.9844357976653697\n",
      "Classification Report:\n",
      "              precision    recall  f1-score   support\n",
      "\n",
      "           0       0.98      0.99      0.99       475\n",
      "           1       0.99      0.97      0.98       296\n",
      "\n",
      "    accuracy                           0.98       771\n",
      "   macro avg       0.99      0.98      0.98       771\n",
      "weighted avg       0.98      0.98      0.98       771\n",
      "\n"
     ]
    }
   ],
   "source": [
    "# Train a  KNN model\n",
    "model5=KNeighborsClassifier()\n",
    "model5.fit(X_train,y_train)\n",
    "# Predict on test data\n",
    "y_pred5=model5.predict(X_test)\n",
    "# Evaluate performance\n",
    "acc5=accuracy_score(y_test,y_pred5)\n",
    "print(f\" KNN Accuracy : {acc5}\")\n",
    "print(\"Classification Report:\")\n",
    "print(classification_report(y_test,y_pred5))"
   ]
  },
  {
   "cell_type": "code",
   "execution_count": 42,
   "id": "ce09191e",
   "metadata": {},
   "outputs": [
    {
     "name": "stdout",
     "output_type": "stream",
     "text": [
      "Extra Trees Accuracy: 0.9870298313878081\n",
      "Classification Report:\n",
      "              precision    recall  f1-score   support\n",
      "\n",
      "           0       0.99      0.99      0.99       475\n",
      "           1       0.98      0.99      0.98       296\n",
      "\n",
      "    accuracy                           0.99       771\n",
      "   macro avg       0.99      0.99      0.99       771\n",
      "weighted avg       0.99      0.99      0.99       771\n",
      "\n"
     ]
    }
   ],
   "source": [
    "# Train a Extra Trees Classifier \n",
    "model6 = ExtraTreesClassifier()\n",
    "model6.fit(X_train, y_train)\n",
    "# Predict on test data\n",
    "y_pred6 = model6.predict(X_test)\n",
    "# Evaluate performance\n",
    "acc6 = accuracy_score(y_test, y_pred6)\n",
    "print(f\"Extra Trees Accuracy: {acc6}\")\n",
    "print(\"Classification Report:\")\n",
    "print(classification_report(y_test, y_pred6))"
   ]
  },
  {
   "cell_type": "code",
   "execution_count": 43,
   "id": "6f694b8a",
   "metadata": {},
   "outputs": [
    {
     "name": "stdout",
     "output_type": "stream",
     "text": [
      "HistGradientBoosting Accuracy: 0.9753566796368353\n",
      "Classification Report:\n",
      "              precision    recall  f1-score   support\n",
      "\n",
      "           0       0.98      0.98      0.98       475\n",
      "           1       0.97      0.97      0.97       296\n",
      "\n",
      "    accuracy                           0.98       771\n",
      "   macro avg       0.97      0.97      0.97       771\n",
      "weighted avg       0.98      0.98      0.98       771\n",
      "\n"
     ]
    }
   ],
   "source": [
    "# Train a Histogram Gradient Boosting Classifier model\n",
    "model7 = HistGradientBoostingClassifier()\n",
    "model7.fit(X_train, y_train)\n",
    "# Predict on test data\n",
    "y_pred7 = model7.predict(X_test)\n",
    "# Evaluate performance\n",
    "acc7 = accuracy_score(y_test, y_pred7)\n",
    "print(f\"HistGradientBoosting Accuracy: {acc7}\")\n",
    "print(\"Classification Report:\")\n",
    "print(classification_report(y_test, y_pred7))"
   ]
  },
  {
   "cell_type": "code",
   "execution_count": 47,
   "id": "383e7366-d05e-4352-aaee-107d172ec61b",
   "metadata": {},
   "outputs": [
    {
     "name": "stdout",
     "output_type": "stream",
     "text": [
      "                 Model  Accuracy  Precision    Recall  F1 Score\n",
      "2      SVM (LinearSVC)  0.992218   0.989865  0.989865  0.989865\n",
      "5          Extra Trees  0.987030   0.979866  0.986486  0.983165\n",
      "3        Random Forest  0.985733   0.979798  0.983108  0.981450\n",
      "4                  KNN  0.984436   0.989655  0.969595  0.979522\n",
      "1  Logistic Regression  0.981842   0.973154  0.979730  0.976431\n",
      "0          Naive Bayes  0.975357   0.957096  0.979730  0.968280\n"
     ]
    }
   ],
   "source": [
    "import pandas as pd\n",
    "from sklearn.metrics import precision_score, recall_score, f1_score\n",
    "\n",
    "results = {\n",
    "    'Model': ['Naive Bayes', 'Logistic Regression', 'SVM (LinearSVC)', 'Random Forest', 'KNN', 'Extra Trees'],\n",
    "    'Accuracy': [acc1, acc2, acc3, acc4, acc5, acc6],\n",
    "    'Precision': [\n",
    "        precision_score(y_test, y_pred1),\n",
    "        precision_score(y_test, y_pred2),\n",
    "        precision_score(y_test, y_pred3),\n",
    "        precision_score(y_test, y_pred4),\n",
    "        precision_score(y_test, y_pred5),\n",
    "        precision_score(y_test, y_pred6)\n",
    "    ],\n",
    "    'Recall': [\n",
    "        recall_score(y_test, y_pred1),\n",
    "        recall_score(y_test, y_pred2),\n",
    "        recall_score(y_test, y_pred3),\n",
    "        recall_score(y_test, y_pred4),\n",
    "        recall_score(y_test, y_pred5),\n",
    "        recall_score(y_test, y_pred6)\n",
    "    ],\n",
    "    'F1 Score': [\n",
    "        f1_score(y_test, y_pred1),\n",
    "        f1_score(y_test, y_pred2),\n",
    "        f1_score(y_test, y_pred3),\n",
    "        f1_score(y_test, y_pred4),\n",
    "        f1_score(y_test, y_pred5),\n",
    "        f1_score(y_test, y_pred6)\n",
    "    ]\n",
    "}\n",
    "\n",
    "\n",
    "results_df = pd.DataFrame(results)\n",
    "\n",
    "\n",
    "results_df = results_df.sort_values(by='Accuracy', ascending=False)\n",
    "\n",
    "\n",
    "print(results_df)\n"
   ]
  },
  {
   "cell_type": "code",
   "execution_count": 49,
   "id": "11d4de89-000a-4e2d-86bc-da2df506b001",
   "metadata": {},
   "outputs": [
    {
     "data": {
      "text/plain": [
       "['tfidf_vectorizer.pkl']"
      ]
     },
     "execution_count": 49,
     "metadata": {},
     "output_type": "execute_result"
    }
   ],
   "source": [
    "import joblib\n",
    "joblib.dump(model3, 'spam_classifier_model.pkl')\n",
    "\n",
    "joblib.dump(vectorizer, \"tfidf_vectorizer.pkl\")"
   ]
  },
  {
   "cell_type": "code",
   "execution_count": 51,
   "id": "35250568-4f20-46b1-893c-01cbbf059711",
   "metadata": {},
   "outputs": [],
   "source": [
    "def predict_spam(text):\n",
    "    cleaned_text = clean_text(text)  \n",
    "    vectorized_text = vectorizer.transform([cleaned_text])\n",
    "    prediction = model3.predict(vectorized_text)\n",
    "    return \"Spam\" if prediction[0] == 1 else \"Ham\"\n"
   ]
  },
  {
   "cell_type": "code",
   "execution_count": 55,
   "id": "32b37737-f09b-4485-a4b3-89ee0e2c4978",
   "metadata": {},
   "outputs": [
    {
     "name": "stdout",
     "output_type": "stream",
     "text": [
      "Prediction: Spam\n"
     ]
    }
   ],
   "source": [
    "message = input(\"Enter a message: \")\n",
    "print(\"Prediction:\", predict_spam(message))\n"
   ]
  },
  {
   "cell_type": "code",
   "execution_count": null,
   "id": "aa638940-4b05-49b7-802a-8c61e6c68d69",
   "metadata": {},
   "outputs": [],
   "source": []
  }
 ],
 "metadata": {
  "kernelspec": {
   "display_name": "Python 3",
   "language": "python",
   "name": "python3"
  },
  "language_info": {
   "codemirror_mode": {
    "name": "ipython",
    "version": 3
   },
   "file_extension": ".py",
   "mimetype": "text/x-python",
   "name": "python",
   "nbconvert_exporter": "python",
   "pygments_lexer": "ipython3",
   "version": "3.13.5"
  }
 },
 "nbformat": 4,
 "nbformat_minor": 5
}
