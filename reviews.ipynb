{
 "cells": [
  {
   "cell_type": "code",
   "execution_count": 61,
   "id": "a78476b9",
   "metadata": {},
   "outputs": [
    {
     "name": "stdout",
     "output_type": "stream",
     "text": [
      "     label                                             review\n",
      "0       cg                        This product is acceptable.\n",
      "1       cg                      The item performs adequately.\n",
      "2       cg                     Functionality is satisfactory.\n",
      "3       cg                      Overall experience: positive.\n",
      "4       cg                        Meets minimum requirements.\n",
      "...    ...                                                ...\n",
      "1946    or  Someone gifted me this and honestly, I'm hooke...\n",
      "1947    or  Searched everywhere for something like this! F...\n",
      "1948    or  This little gadget made a huge difference in m...\n",
      "1949    or  Had such high hopes for this, but it just didn...\n",
      "1950    or  Based on my experience, I wouldn't recommend t...\n",
      "\n",
      "[1951 rows x 2 columns]\n"
     ]
    }
   ],
   "source": [
    "import pandas as pd\n",
    "data_1=pd.read_csv(r\"reviews.csv\")\n",
    "print(data_1)"
   ]
  },
  {
   "cell_type": "code",
   "execution_count": 62,
   "id": "d7bca475",
   "metadata": {},
   "outputs": [
    {
     "name": "stdout",
     "output_type": "stream",
     "text": [
      "                           category  rating label  \\\n",
      "0                Home_and_Kitchen_5     5.0    CG   \n",
      "1                Home_and_Kitchen_5     5.0    CG   \n",
      "2                Home_and_Kitchen_5     5.0    CG   \n",
      "3                Home_and_Kitchen_5     1.0    CG   \n",
      "4                Home_and_Kitchen_5     5.0    CG   \n",
      "...                             ...     ...   ...   \n",
      "40427  Clothing_Shoes_and_Jewelry_5     4.0    OR   \n",
      "40428  Clothing_Shoes_and_Jewelry_5     5.0    CG   \n",
      "40429  Clothing_Shoes_and_Jewelry_5     2.0    OR   \n",
      "40430  Clothing_Shoes_and_Jewelry_5     1.0    CG   \n",
      "40431  Clothing_Shoes_and_Jewelry_5     5.0    OR   \n",
      "\n",
      "                                                   text_  \n",
      "0      Love this!  Well made, sturdy, and very comfor...  \n",
      "1      love it, a great upgrade from the original.  I...  \n",
      "2      This pillow saved my back. I love the look and...  \n",
      "3      Missing information on how to use it, but it i...  \n",
      "4      Very nice set. Good quality. We have had the s...  \n",
      "...                                                  ...  \n",
      "40427  I had read some reviews saying that this bra r...  \n",
      "40428  I wasn't sure exactly what it would be. It is ...  \n",
      "40429  You can wear the hood by itself, wear it with ...  \n",
      "40430  I liked nothing about this dress. The only rea...  \n",
      "40431  I work in the wedding industry and have to wor...  \n",
      "\n",
      "[40432 rows x 4 columns]\n"
     ]
    }
   ],
   "source": [
    "data_2=pd.read_csv(r\"reviews_2.csv\")\n",
    "print(data_2)"
   ]
  },
  {
   "cell_type": "code",
   "execution_count": 63,
   "id": "a2d6f0cd",
   "metadata": {},
   "outputs": [
    {
     "name": "stdout",
     "output_type": "stream",
     "text": [
      "Index(['label', 'review'], dtype='object')\n",
      "Index(['category', 'rating', 'label', 'text_'], dtype='object')\n"
     ]
    }
   ],
   "source": [
    "print(data_1.columns)\n",
    "print(data_2.columns)"
   ]
  },
  {
   "cell_type": "code",
   "execution_count": 64,
   "id": "1fb4559d",
   "metadata": {},
   "outputs": [],
   "source": [
    "data_2=data_2.drop(columns=['category', 'rating'])"
   ]
  },
  {
   "cell_type": "code",
   "execution_count": 65,
   "id": "36997376",
   "metadata": {},
   "outputs": [
    {
     "data": {
      "text/html": [
       "<div>\n",
       "<style scoped>\n",
       "    .dataframe tbody tr th:only-of-type {\n",
       "        vertical-align: middle;\n",
       "    }\n",
       "\n",
       "    .dataframe tbody tr th {\n",
       "        vertical-align: top;\n",
       "    }\n",
       "\n",
       "    .dataframe thead th {\n",
       "        text-align: right;\n",
       "    }\n",
       "</style>\n",
       "<table border=\"1\" class=\"dataframe\">\n",
       "  <thead>\n",
       "    <tr style=\"text-align: right;\">\n",
       "      <th></th>\n",
       "      <th>label</th>\n",
       "      <th>text_</th>\n",
       "    </tr>\n",
       "  </thead>\n",
       "  <tbody>\n",
       "    <tr>\n",
       "      <th>0</th>\n",
       "      <td>CG</td>\n",
       "      <td>Love this!  Well made, sturdy, and very comfor...</td>\n",
       "    </tr>\n",
       "    <tr>\n",
       "      <th>1</th>\n",
       "      <td>CG</td>\n",
       "      <td>love it, a great upgrade from the original.  I...</td>\n",
       "    </tr>\n",
       "    <tr>\n",
       "      <th>2</th>\n",
       "      <td>CG</td>\n",
       "      <td>This pillow saved my back. I love the look and...</td>\n",
       "    </tr>\n",
       "    <tr>\n",
       "      <th>3</th>\n",
       "      <td>CG</td>\n",
       "      <td>Missing information on how to use it, but it i...</td>\n",
       "    </tr>\n",
       "    <tr>\n",
       "      <th>4</th>\n",
       "      <td>CG</td>\n",
       "      <td>Very nice set. Good quality. We have had the s...</td>\n",
       "    </tr>\n",
       "    <tr>\n",
       "      <th>...</th>\n",
       "      <td>...</td>\n",
       "      <td>...</td>\n",
       "    </tr>\n",
       "    <tr>\n",
       "      <th>40427</th>\n",
       "      <td>OR</td>\n",
       "      <td>I had read some reviews saying that this bra r...</td>\n",
       "    </tr>\n",
       "    <tr>\n",
       "      <th>40428</th>\n",
       "      <td>CG</td>\n",
       "      <td>I wasn't sure exactly what it would be. It is ...</td>\n",
       "    </tr>\n",
       "    <tr>\n",
       "      <th>40429</th>\n",
       "      <td>OR</td>\n",
       "      <td>You can wear the hood by itself, wear it with ...</td>\n",
       "    </tr>\n",
       "    <tr>\n",
       "      <th>40430</th>\n",
       "      <td>CG</td>\n",
       "      <td>I liked nothing about this dress. The only rea...</td>\n",
       "    </tr>\n",
       "    <tr>\n",
       "      <th>40431</th>\n",
       "      <td>OR</td>\n",
       "      <td>I work in the wedding industry and have to wor...</td>\n",
       "    </tr>\n",
       "  </tbody>\n",
       "</table>\n",
       "<p>40432 rows × 2 columns</p>\n",
       "</div>"
      ],
      "text/plain": [
       "      label                                              text_\n",
       "0        CG  Love this!  Well made, sturdy, and very comfor...\n",
       "1        CG  love it, a great upgrade from the original.  I...\n",
       "2        CG  This pillow saved my back. I love the look and...\n",
       "3        CG  Missing information on how to use it, but it i...\n",
       "4        CG  Very nice set. Good quality. We have had the s...\n",
       "...     ...                                                ...\n",
       "40427    OR  I had read some reviews saying that this bra r...\n",
       "40428    CG  I wasn't sure exactly what it would be. It is ...\n",
       "40429    OR  You can wear the hood by itself, wear it with ...\n",
       "40430    CG  I liked nothing about this dress. The only rea...\n",
       "40431    OR  I work in the wedding industry and have to wor...\n",
       "\n",
       "[40432 rows x 2 columns]"
      ]
     },
     "execution_count": 65,
     "metadata": {},
     "output_type": "execute_result"
    }
   ],
   "source": [
    "data_2"
   ]
  },
  {
   "cell_type": "code",
   "execution_count": 66,
   "id": "c53407b0",
   "metadata": {},
   "outputs": [],
   "source": [
    "data_2.rename(columns={\"text_\": \"review\"}, inplace=True)"
   ]
  },
  {
   "cell_type": "code",
   "execution_count": 67,
   "id": "e3c45788",
   "metadata": {},
   "outputs": [
    {
     "data": {
      "text/html": [
       "<div>\n",
       "<style scoped>\n",
       "    .dataframe tbody tr th:only-of-type {\n",
       "        vertical-align: middle;\n",
       "    }\n",
       "\n",
       "    .dataframe tbody tr th {\n",
       "        vertical-align: top;\n",
       "    }\n",
       "\n",
       "    .dataframe thead th {\n",
       "        text-align: right;\n",
       "    }\n",
       "</style>\n",
       "<table border=\"1\" class=\"dataframe\">\n",
       "  <thead>\n",
       "    <tr style=\"text-align: right;\">\n",
       "      <th></th>\n",
       "      <th>label</th>\n",
       "      <th>review</th>\n",
       "    </tr>\n",
       "  </thead>\n",
       "  <tbody>\n",
       "    <tr>\n",
       "      <th>0</th>\n",
       "      <td>CG</td>\n",
       "      <td>Love this!  Well made, sturdy, and very comfor...</td>\n",
       "    </tr>\n",
       "    <tr>\n",
       "      <th>1</th>\n",
       "      <td>CG</td>\n",
       "      <td>love it, a great upgrade from the original.  I...</td>\n",
       "    </tr>\n",
       "    <tr>\n",
       "      <th>2</th>\n",
       "      <td>CG</td>\n",
       "      <td>This pillow saved my back. I love the look and...</td>\n",
       "    </tr>\n",
       "    <tr>\n",
       "      <th>3</th>\n",
       "      <td>CG</td>\n",
       "      <td>Missing information on how to use it, but it i...</td>\n",
       "    </tr>\n",
       "    <tr>\n",
       "      <th>4</th>\n",
       "      <td>CG</td>\n",
       "      <td>Very nice set. Good quality. We have had the s...</td>\n",
       "    </tr>\n",
       "    <tr>\n",
       "      <th>...</th>\n",
       "      <td>...</td>\n",
       "      <td>...</td>\n",
       "    </tr>\n",
       "    <tr>\n",
       "      <th>40427</th>\n",
       "      <td>OR</td>\n",
       "      <td>I had read some reviews saying that this bra r...</td>\n",
       "    </tr>\n",
       "    <tr>\n",
       "      <th>40428</th>\n",
       "      <td>CG</td>\n",
       "      <td>I wasn't sure exactly what it would be. It is ...</td>\n",
       "    </tr>\n",
       "    <tr>\n",
       "      <th>40429</th>\n",
       "      <td>OR</td>\n",
       "      <td>You can wear the hood by itself, wear it with ...</td>\n",
       "    </tr>\n",
       "    <tr>\n",
       "      <th>40430</th>\n",
       "      <td>CG</td>\n",
       "      <td>I liked nothing about this dress. The only rea...</td>\n",
       "    </tr>\n",
       "    <tr>\n",
       "      <th>40431</th>\n",
       "      <td>OR</td>\n",
       "      <td>I work in the wedding industry and have to wor...</td>\n",
       "    </tr>\n",
       "  </tbody>\n",
       "</table>\n",
       "<p>40432 rows × 2 columns</p>\n",
       "</div>"
      ],
      "text/plain": [
       "      label                                             review\n",
       "0        CG  Love this!  Well made, sturdy, and very comfor...\n",
       "1        CG  love it, a great upgrade from the original.  I...\n",
       "2        CG  This pillow saved my back. I love the look and...\n",
       "3        CG  Missing information on how to use it, but it i...\n",
       "4        CG  Very nice set. Good quality. We have had the s...\n",
       "...     ...                                                ...\n",
       "40427    OR  I had read some reviews saying that this bra r...\n",
       "40428    CG  I wasn't sure exactly what it would be. It is ...\n",
       "40429    OR  You can wear the hood by itself, wear it with ...\n",
       "40430    CG  I liked nothing about this dress. The only rea...\n",
       "40431    OR  I work in the wedding industry and have to wor...\n",
       "\n",
       "[40432 rows x 2 columns]"
      ]
     },
     "execution_count": 67,
     "metadata": {},
     "output_type": "execute_result"
    }
   ],
   "source": [
    "data_2"
   ]
  },
  {
   "cell_type": "code",
   "execution_count": 68,
   "id": "ad9e5cfa",
   "metadata": {},
   "outputs": [],
   "source": [
    "data= pd.concat([data_2, data_1], ignore_index=True)"
   ]
  },
  {
   "cell_type": "code",
   "execution_count": 69,
   "id": "c31335f6",
   "metadata": {},
   "outputs": [
    {
     "data": {
      "text/html": [
       "<div>\n",
       "<style scoped>\n",
       "    .dataframe tbody tr th:only-of-type {\n",
       "        vertical-align: middle;\n",
       "    }\n",
       "\n",
       "    .dataframe tbody tr th {\n",
       "        vertical-align: top;\n",
       "    }\n",
       "\n",
       "    .dataframe thead th {\n",
       "        text-align: right;\n",
       "    }\n",
       "</style>\n",
       "<table border=\"1\" class=\"dataframe\">\n",
       "  <thead>\n",
       "    <tr style=\"text-align: right;\">\n",
       "      <th></th>\n",
       "      <th>label</th>\n",
       "      <th>review</th>\n",
       "    </tr>\n",
       "  </thead>\n",
       "  <tbody>\n",
       "    <tr>\n",
       "      <th>0</th>\n",
       "      <td>CG</td>\n",
       "      <td>Love this!  Well made, sturdy, and very comfor...</td>\n",
       "    </tr>\n",
       "    <tr>\n",
       "      <th>1</th>\n",
       "      <td>CG</td>\n",
       "      <td>love it, a great upgrade from the original.  I...</td>\n",
       "    </tr>\n",
       "    <tr>\n",
       "      <th>2</th>\n",
       "      <td>CG</td>\n",
       "      <td>This pillow saved my back. I love the look and...</td>\n",
       "    </tr>\n",
       "    <tr>\n",
       "      <th>3</th>\n",
       "      <td>CG</td>\n",
       "      <td>Missing information on how to use it, but it i...</td>\n",
       "    </tr>\n",
       "    <tr>\n",
       "      <th>4</th>\n",
       "      <td>CG</td>\n",
       "      <td>Very nice set. Good quality. We have had the s...</td>\n",
       "    </tr>\n",
       "    <tr>\n",
       "      <th>...</th>\n",
       "      <td>...</td>\n",
       "      <td>...</td>\n",
       "    </tr>\n",
       "    <tr>\n",
       "      <th>42378</th>\n",
       "      <td>or</td>\n",
       "      <td>Someone gifted me this and honestly, I'm hooke...</td>\n",
       "    </tr>\n",
       "    <tr>\n",
       "      <th>42379</th>\n",
       "      <td>or</td>\n",
       "      <td>Searched everywhere for something like this! F...</td>\n",
       "    </tr>\n",
       "    <tr>\n",
       "      <th>42380</th>\n",
       "      <td>or</td>\n",
       "      <td>This little gadget made a huge difference in m...</td>\n",
       "    </tr>\n",
       "    <tr>\n",
       "      <th>42381</th>\n",
       "      <td>or</td>\n",
       "      <td>Had such high hopes for this, but it just didn...</td>\n",
       "    </tr>\n",
       "    <tr>\n",
       "      <th>42382</th>\n",
       "      <td>or</td>\n",
       "      <td>Based on my experience, I wouldn't recommend t...</td>\n",
       "    </tr>\n",
       "  </tbody>\n",
       "</table>\n",
       "<p>42383 rows × 2 columns</p>\n",
       "</div>"
      ],
      "text/plain": [
       "      label                                             review\n",
       "0        CG  Love this!  Well made, sturdy, and very comfor...\n",
       "1        CG  love it, a great upgrade from the original.  I...\n",
       "2        CG  This pillow saved my back. I love the look and...\n",
       "3        CG  Missing information on how to use it, but it i...\n",
       "4        CG  Very nice set. Good quality. We have had the s...\n",
       "...     ...                                                ...\n",
       "42378    or  Someone gifted me this and honestly, I'm hooke...\n",
       "42379    or  Searched everywhere for something like this! F...\n",
       "42380    or  This little gadget made a huge difference in m...\n",
       "42381    or  Had such high hopes for this, but it just didn...\n",
       "42382    or  Based on my experience, I wouldn't recommend t...\n",
       "\n",
       "[42383 rows x 2 columns]"
      ]
     },
     "execution_count": 69,
     "metadata": {},
     "output_type": "execute_result"
    }
   ],
   "source": [
    "data"
   ]
  },
  {
   "cell_type": "code",
   "execution_count": 70,
   "id": "159de926",
   "metadata": {},
   "outputs": [
    {
     "data": {
      "text/html": [
       "<div>\n",
       "<style scoped>\n",
       "    .dataframe tbody tr th:only-of-type {\n",
       "        vertical-align: middle;\n",
       "    }\n",
       "\n",
       "    .dataframe tbody tr th {\n",
       "        vertical-align: top;\n",
       "    }\n",
       "\n",
       "    .dataframe thead th {\n",
       "        text-align: right;\n",
       "    }\n",
       "</style>\n",
       "<table border=\"1\" class=\"dataframe\">\n",
       "  <thead>\n",
       "    <tr style=\"text-align: right;\">\n",
       "      <th></th>\n",
       "      <th>label</th>\n",
       "      <th>review</th>\n",
       "    </tr>\n",
       "  </thead>\n",
       "  <tbody>\n",
       "    <tr>\n",
       "      <th>0</th>\n",
       "      <td>CG</td>\n",
       "      <td>Love this!  Well made, sturdy, and very comfor...</td>\n",
       "    </tr>\n",
       "    <tr>\n",
       "      <th>1</th>\n",
       "      <td>CG</td>\n",
       "      <td>love it, a great upgrade from the original.  I...</td>\n",
       "    </tr>\n",
       "    <tr>\n",
       "      <th>2</th>\n",
       "      <td>CG</td>\n",
       "      <td>This pillow saved my back. I love the look and...</td>\n",
       "    </tr>\n",
       "    <tr>\n",
       "      <th>3</th>\n",
       "      <td>CG</td>\n",
       "      <td>Missing information on how to use it, but it i...</td>\n",
       "    </tr>\n",
       "    <tr>\n",
       "      <th>4</th>\n",
       "      <td>CG</td>\n",
       "      <td>Very nice set. Good quality. We have had the s...</td>\n",
       "    </tr>\n",
       "  </tbody>\n",
       "</table>\n",
       "</div>"
      ],
      "text/plain": [
       "  label                                             review\n",
       "0    CG  Love this!  Well made, sturdy, and very comfor...\n",
       "1    CG  love it, a great upgrade from the original.  I...\n",
       "2    CG  This pillow saved my back. I love the look and...\n",
       "3    CG  Missing information on how to use it, but it i...\n",
       "4    CG  Very nice set. Good quality. We have had the s..."
      ]
     },
     "execution_count": 70,
     "metadata": {},
     "output_type": "execute_result"
    }
   ],
   "source": [
    "data.head()"
   ]
  },
  {
   "cell_type": "code",
   "execution_count": 71,
   "id": "85a24b5f",
   "metadata": {},
   "outputs": [
    {
     "data": {
      "text/html": [
       "<div>\n",
       "<style scoped>\n",
       "    .dataframe tbody tr th:only-of-type {\n",
       "        vertical-align: middle;\n",
       "    }\n",
       "\n",
       "    .dataframe tbody tr th {\n",
       "        vertical-align: top;\n",
       "    }\n",
       "\n",
       "    .dataframe thead th {\n",
       "        text-align: right;\n",
       "    }\n",
       "</style>\n",
       "<table border=\"1\" class=\"dataframe\">\n",
       "  <thead>\n",
       "    <tr style=\"text-align: right;\">\n",
       "      <th></th>\n",
       "      <th>label</th>\n",
       "      <th>review</th>\n",
       "    </tr>\n",
       "  </thead>\n",
       "  <tbody>\n",
       "    <tr>\n",
       "      <th>42378</th>\n",
       "      <td>or</td>\n",
       "      <td>Someone gifted me this and honestly, I'm hooke...</td>\n",
       "    </tr>\n",
       "    <tr>\n",
       "      <th>42379</th>\n",
       "      <td>or</td>\n",
       "      <td>Searched everywhere for something like this! F...</td>\n",
       "    </tr>\n",
       "    <tr>\n",
       "      <th>42380</th>\n",
       "      <td>or</td>\n",
       "      <td>This little gadget made a huge difference in m...</td>\n",
       "    </tr>\n",
       "    <tr>\n",
       "      <th>42381</th>\n",
       "      <td>or</td>\n",
       "      <td>Had such high hopes for this, but it just didn...</td>\n",
       "    </tr>\n",
       "    <tr>\n",
       "      <th>42382</th>\n",
       "      <td>or</td>\n",
       "      <td>Based on my experience, I wouldn't recommend t...</td>\n",
       "    </tr>\n",
       "  </tbody>\n",
       "</table>\n",
       "</div>"
      ],
      "text/plain": [
       "      label                                             review\n",
       "42378    or  Someone gifted me this and honestly, I'm hooke...\n",
       "42379    or  Searched everywhere for something like this! F...\n",
       "42380    or  This little gadget made a huge difference in m...\n",
       "42381    or  Had such high hopes for this, but it just didn...\n",
       "42382    or  Based on my experience, I wouldn't recommend t..."
      ]
     },
     "execution_count": 71,
     "metadata": {},
     "output_type": "execute_result"
    }
   ],
   "source": [
    "data.tail()"
   ]
  },
  {
   "cell_type": "code",
   "execution_count": 72,
   "id": "ce540e12",
   "metadata": {},
   "outputs": [
    {
     "data": {
      "text/plain": [
       "(42383, 2)"
      ]
     },
     "execution_count": 72,
     "metadata": {},
     "output_type": "execute_result"
    }
   ],
   "source": [
    "data.shape"
   ]
  },
  {
   "cell_type": "code",
   "execution_count": 73,
   "id": "6e660825",
   "metadata": {},
   "outputs": [
    {
     "name": "stdout",
     "output_type": "stream",
     "text": [
      "<class 'pandas.core.frame.DataFrame'>\n",
      "RangeIndex: 42383 entries, 0 to 42382\n",
      "Data columns (total 2 columns):\n",
      " #   Column  Non-Null Count  Dtype \n",
      "---  ------  --------------  ----- \n",
      " 0   label   42383 non-null  object\n",
      " 1   review  42383 non-null  object\n",
      "dtypes: object(2)\n",
      "memory usage: 662.4+ KB\n"
     ]
    }
   ],
   "source": [
    "data.info()"
   ]
  },
  {
   "cell_type": "code",
   "execution_count": 74,
   "id": "8d83114e",
   "metadata": {},
   "outputs": [
    {
     "data": {
      "text/plain": [
       "np.int64(93)"
      ]
     },
     "execution_count": 74,
     "metadata": {},
     "output_type": "execute_result"
    }
   ],
   "source": [
    "data.duplicated().sum()"
   ]
  },
  {
   "cell_type": "code",
   "execution_count": 75,
   "id": "ba8f74d6",
   "metadata": {},
   "outputs": [],
   "source": [
    "data = data.drop_duplicates(subset=['review'])"
   ]
  },
  {
   "cell_type": "code",
   "execution_count": 76,
   "id": "d245568e",
   "metadata": {},
   "outputs": [
    {
     "data": {
      "text/plain": [
       "np.int64(0)"
      ]
     },
     "execution_count": 76,
     "metadata": {},
     "output_type": "execute_result"
    }
   ],
   "source": [
    "data.duplicated().sum()"
   ]
  },
  {
   "cell_type": "code",
   "execution_count": 77,
   "id": "ebe1f81f",
   "metadata": {},
   "outputs": [
    {
     "data": {
      "text/plain": [
       "label     0\n",
       "review    0\n",
       "dtype: int64"
      ]
     },
     "execution_count": 77,
     "metadata": {},
     "output_type": "execute_result"
    }
   ],
   "source": [
    "data.isnull().sum()"
   ]
  },
  {
   "cell_type": "code",
   "execution_count": 78,
   "id": "fd60f0e9",
   "metadata": {},
   "outputs": [
    {
     "data": {
      "text/plain": [
       "label\n",
       "OR    20215\n",
       "CG    20197\n",
       "or      994\n",
       "cg      884\n",
       "Name: count, dtype: int64"
      ]
     },
     "execution_count": 78,
     "metadata": {},
     "output_type": "execute_result"
    }
   ],
   "source": [
    "data['label'].value_counts()"
   ]
  },
  {
   "cell_type": "code",
   "execution_count": 79,
   "id": "6093e4db",
   "metadata": {},
   "outputs": [
    {
     "name": "stderr",
     "output_type": "stream",
     "text": [
      "C:\\Users\\vodla\\AppData\\Local\\Temp\\ipykernel_17724\\3967843674.py:1: SettingWithCopyWarning: \n",
      "A value is trying to be set on a copy of a slice from a DataFrame.\n",
      "Try using .loc[row_indexer,col_indexer] = value instead\n",
      "\n",
      "See the caveats in the documentation: https://pandas.pydata.org/pandas-docs/stable/user_guide/indexing.html#returning-a-view-versus-a-copy\n",
      "  data['label']=data['label'].str.upper()\n"
     ]
    }
   ],
   "source": [
    "data['label']=data['label'].str.upper()"
   ]
  },
  {
   "cell_type": "code",
   "execution_count": 80,
   "id": "6d723dc9",
   "metadata": {},
   "outputs": [
    {
     "data": {
      "text/plain": [
       "label\n",
       "OR    21209\n",
       "CG    21081\n",
       "Name: count, dtype: int64"
      ]
     },
     "execution_count": 80,
     "metadata": {},
     "output_type": "execute_result"
    }
   ],
   "source": [
    "data['label'].value_counts()"
   ]
  },
  {
   "cell_type": "code",
   "execution_count": 81,
   "id": "5b67cac9",
   "metadata": {},
   "outputs": [
    {
     "name": "stderr",
     "output_type": "stream",
     "text": [
      "C:\\Users\\vodla\\AppData\\Local\\Temp\\ipykernel_17724\\2417735117.py:3: SettingWithCopyWarning: \n",
      "A value is trying to be set on a copy of a slice from a DataFrame.\n",
      "Try using .loc[row_indexer,col_indexer] = value instead\n",
      "\n",
      "See the caveats in the documentation: https://pandas.pydata.org/pandas-docs/stable/user_guide/indexing.html#returning-a-view-versus-a-copy\n",
      "  data['label']=el.fit_transform(data['label'])\n"
     ]
    }
   ],
   "source": [
    "from sklearn.preprocessing import LabelEncoder\n",
    "el=LabelEncoder()\n",
    "data['label']=el.fit_transform(data['label'])\n",
    "# Convert categorical labels ('or', 'cg') into numeric format (e.g., 'cg'→0, 'or'→1)\n",
    "# Required for training classification models with scikit-learn"
   ]
  },
  {
   "cell_type": "code",
   "execution_count": 82,
   "id": "9177a636",
   "metadata": {},
   "outputs": [
    {
     "data": {
      "text/plain": [
       "label\n",
       "1    21209\n",
       "0    21081\n",
       "Name: count, dtype: int64"
      ]
     },
     "execution_count": 82,
     "metadata": {},
     "output_type": "execute_result"
    }
   ],
   "source": [
    "data['label'].value_counts()"
   ]
  },
  {
   "cell_type": "code",
   "execution_count": 83,
   "id": "94b1ad19",
   "metadata": {},
   "outputs": [
    {
     "name": "stderr",
     "output_type": "stream",
     "text": [
      "C:\\Users\\vodla\\AppData\\Local\\Temp\\ipykernel_17724\\3930316690.py:28: SettingWithCopyWarning: \n",
      "A value is trying to be set on a copy of a slice from a DataFrame.\n",
      "Try using .loc[row_indexer,col_indexer] = value instead\n",
      "\n",
      "See the caveats in the documentation: https://pandas.pydata.org/pandas-docs/stable/user_guide/indexing.html#returning-a-view-versus-a-copy\n",
      "  data['review']=data['review'].apply(clean_text)\n"
     ]
    }
   ],
   "source": [
    "# Text preprocessing function to clean raw text data:\n",
    "import re\n",
    "import string\n",
    "import nltk\n",
    "from nltk.corpus import stopwords\n",
    "from nltk.stem import PorterStemmer\n",
    "\n",
    "stop_words = set(stopwords.words('english'))\n",
    "stemmer = PorterStemmer()\n",
    "def clean_text(text):\n",
    "    # - Converts text to lowercase\n",
    "    text = text.lower()  \n",
    "    # - Removes URLs\n",
    "    text = re.sub(r'http\\S+|www.\\S+', '', text)\n",
    "    # - Removes punctuation and digits\n",
    "    text = text.translate(str.maketrans('', '', string.punctuation))\n",
    "    # Remove digits\n",
    "    text = re.sub(r'\\d+', '', text)\n",
    "    # - Strips leading/trailing spaces\n",
    "    text = text.strip()\n",
    "    # - Tokenizes and removes stopwords\n",
    "    words = text.split()\n",
    "    # - Applies stemming using PorterStemmer\n",
    "    cleaned_words = [stemmer.stem(word) for word in words if word not in stop_words]\n",
    "\n",
    "    return ' '.join(cleaned_words)\n",
    "#Apply the text cleaning function to all reviews in the dataset\n",
    "data['review']=data['review'].apply(clean_text)\n"
   ]
  },
  {
   "cell_type": "code",
   "execution_count": 84,
   "id": "24f380b8",
   "metadata": {},
   "outputs": [
    {
     "data": {
      "text/html": [
       "<div>\n",
       "<style scoped>\n",
       "    .dataframe tbody tr th:only-of-type {\n",
       "        vertical-align: middle;\n",
       "    }\n",
       "\n",
       "    .dataframe tbody tr th {\n",
       "        vertical-align: top;\n",
       "    }\n",
       "\n",
       "    .dataframe thead th {\n",
       "        text-align: right;\n",
       "    }\n",
       "</style>\n",
       "<table border=\"1\" class=\"dataframe\">\n",
       "  <thead>\n",
       "    <tr style=\"text-align: right;\">\n",
       "      <th></th>\n",
       "      <th>label</th>\n",
       "      <th>review</th>\n",
       "    </tr>\n",
       "  </thead>\n",
       "  <tbody>\n",
       "    <tr>\n",
       "      <th>0</th>\n",
       "      <td>0</td>\n",
       "      <td>love well made sturdi comfort love itveri pretti</td>\n",
       "    </tr>\n",
       "    <tr>\n",
       "      <th>1</th>\n",
       "      <td>0</td>\n",
       "      <td>love great upgrad origin ive mine coupl year</td>\n",
       "    </tr>\n",
       "    <tr>\n",
       "      <th>2</th>\n",
       "      <td>0</td>\n",
       "      <td>pillow save back love look feel pillow</td>\n",
       "    </tr>\n",
       "    <tr>\n",
       "      <th>3</th>\n",
       "      <td>0</td>\n",
       "      <td>miss inform use great product price</td>\n",
       "    </tr>\n",
       "    <tr>\n",
       "      <th>4</th>\n",
       "      <td>0</td>\n",
       "      <td>nice set good qualiti set two month</td>\n",
       "    </tr>\n",
       "    <tr>\n",
       "      <th>...</th>\n",
       "      <td>...</td>\n",
       "      <td>...</td>\n",
       "    </tr>\n",
       "    <tr>\n",
       "      <th>42378</th>\n",
       "      <td>1</td>\n",
       "      <td>someon gift honestli im hook</td>\n",
       "    </tr>\n",
       "    <tr>\n",
       "      <th>42379</th>\n",
       "      <td>1</td>\n",
       "      <td>search everywher someth like fit need perfectli</td>\n",
       "    </tr>\n",
       "    <tr>\n",
       "      <th>42380</th>\n",
       "      <td>1</td>\n",
       "      <td>littl gadget made huge differ daili routin thank</td>\n",
       "    </tr>\n",
       "    <tr>\n",
       "      <th>42381</th>\n",
       "      <td>1</td>\n",
       "      <td>high hope didnt work</td>\n",
       "    </tr>\n",
       "    <tr>\n",
       "      <th>42382</th>\n",
       "      <td>1</td>\n",
       "      <td>base experi wouldnt recommend product friend</td>\n",
       "    </tr>\n",
       "  </tbody>\n",
       "</table>\n",
       "<p>42290 rows × 2 columns</p>\n",
       "</div>"
      ],
      "text/plain": [
       "       label                                            review\n",
       "0          0  love well made sturdi comfort love itveri pretti\n",
       "1          0      love great upgrad origin ive mine coupl year\n",
       "2          0            pillow save back love look feel pillow\n",
       "3          0               miss inform use great product price\n",
       "4          0               nice set good qualiti set two month\n",
       "...      ...                                               ...\n",
       "42378      1                      someon gift honestli im hook\n",
       "42379      1   search everywher someth like fit need perfectli\n",
       "42380      1  littl gadget made huge differ daili routin thank\n",
       "42381      1                              high hope didnt work\n",
       "42382      1      base experi wouldnt recommend product friend\n",
       "\n",
       "[42290 rows x 2 columns]"
      ]
     },
     "execution_count": 84,
     "metadata": {},
     "output_type": "execute_result"
    }
   ],
   "source": [
    "data"
   ]
  },
  {
   "cell_type": "code",
   "execution_count": 85,
   "id": "22a64b39",
   "metadata": {},
   "outputs": [],
   "source": [
    "from sklearn.feature_extraction.text import TfidfVectorizer\n",
    "import numpy as np \n",
    "# Convert text reviews into TF-IDF feature vectors using the top 15000 most frequent words\n",
    "vectorizer = TfidfVectorizer(max_features=15000)\n",
    "# Transform the cleaned 'review' text into a dense NumPy array\n",
    "X = vectorizer.fit_transform(data['review']).toarray()\n",
    "# Target labels (already label-encoded earlier)\n",
    "y = data['label']"
   ]
  },
  {
   "cell_type": "code",
   "execution_count": 86,
   "id": "4620b0da",
   "metadata": {},
   "outputs": [],
   "source": [
    "from sklearn.model_selection import train_test_split\n",
    "# Split the dataset into training and testing sets (80% train, 20% test)\n",
    "# Setting random_state ensures the split is reproducible\n",
    "X_train, X_test, y_train, y_test = train_test_split(X, y, test_size=0.2, random_state=42)"
   ]
  },
  {
   "cell_type": "code",
   "execution_count": 87,
   "id": "83c2dc1c",
   "metadata": {},
   "outputs": [],
   "source": [
    "# Import various machine learning classifiers to compare performance:\n",
    "# - Naive Bayes, Logistic Regression, SVM, Random Forest, KNN, Extra Trees, HistGradientBoosting\n",
    "from sklearn.naive_bayes import MultinomialNB\n",
    "from sklearn.linear_model import LogisticRegression\n",
    "from sklearn.svm import LinearSVC\n",
    "from sklearn.ensemble import RandomForestClassifier\n",
    "from sklearn.neighbors import KNeighborsClassifier\n",
    "from sklearn.ensemble import ExtraTreesClassifier\n",
    "from sklearn.ensemble import HistGradientBoostingClassifier\n",
    "from sklearn.metrics import classification_report, accuracy_score"
   ]
  },
  {
   "cell_type": "code",
   "execution_count": null,
   "id": "07de1804",
   "metadata": {},
   "outputs": [
    {
     "name": "stdout",
     "output_type": "stream",
     "text": [
      " Naive Bayes Accuracy : 0.8483092929770631\n",
      "Classification Report:\n",
      "              precision    recall  f1-score   support\n",
      "\n",
      "           0       0.84      0.87      0.85      4274\n",
      "           1       0.86      0.82      0.84      4184\n",
      "\n",
      "    accuracy                           0.85      8458\n",
      "   macro avg       0.85      0.85      0.85      8458\n",
      "weighted avg       0.85      0.85      0.85      8458\n",
      "\n"
     ]
    }
   ],
   "source": [
    "# Train a Multinomial Naive Bayes classifier\n",
    "model1=MultinomialNB()\n",
    "model1.fit(X_train,y_train)\n",
    "y_pred1=model1.predict(X_test)\n",
    "acc1=accuracy_score(y_test,y_pred1)\n",
    "print(f\" Naive Bayes Accuracy : {acc1}\")\n",
    "print(\"Classification Report:\")\n",
    "print(classification_report(y_test,y_pred1))"
   ]
  },
  {
   "cell_type": "code",
   "execution_count": 89,
   "id": "b578d54c",
   "metadata": {},
   "outputs": [
    {
     "name": "stdout",
     "output_type": "stream",
     "text": [
      " Logistic Regression Accuracy : 0.8666351383305746\n",
      "Classification Report:\n",
      "              precision    recall  f1-score   support\n",
      "\n",
      "           0       0.88      0.85      0.87      4274\n",
      "           1       0.85      0.88      0.87      4184\n",
      "\n",
      "    accuracy                           0.87      8458\n",
      "   macro avg       0.87      0.87      0.87      8458\n",
      "weighted avg       0.87      0.87      0.87      8458\n",
      "\n"
     ]
    }
   ],
   "source": [
    "# Train a Logistic Regression classifier\n",
    "model2= LogisticRegression()\n",
    "model2.fit(X_train,y_train)\n",
    "# Predict on test data\n",
    "y_pred2=model2.predict(X_test)\n",
    "# Evaluate performance\n",
    "acc2=accuracy_score(y_test,y_pred2)\n",
    "print(f\" Logistic Regression Accuracy : {acc2}\")\n",
    "print(\"Classification Report:\")\n",
    "print(classification_report(y_test,y_pred2))"
   ]
  },
  {
   "cell_type": "code",
   "execution_count": 90,
   "id": "3980d740",
   "metadata": {},
   "outputs": [
    {
     "name": "stdout",
     "output_type": "stream",
     "text": [
      " SVM Accuracy : 0.8759754078978482\n",
      "Classification Report:\n",
      "              precision    recall  f1-score   support\n",
      "\n",
      "           0       0.88      0.88      0.88      4274\n",
      "           1       0.88      0.87      0.87      4184\n",
      "\n",
      "    accuracy                           0.88      8458\n",
      "   macro avg       0.88      0.88      0.88      8458\n",
      "weighted avg       0.88      0.88      0.88      8458\n",
      "\n"
     ]
    }
   ],
   "source": [
    "# Train a Linear SVM model\n",
    "model3=LinearSVC()\n",
    "model3.fit(X_train,y_train)\n",
    "# Predict on test data\n",
    "y_pred3=model3.predict(X_test)\n",
    "# Evaluate performance\n",
    "acc3=accuracy_score(y_test,y_pred3)\n",
    "print(f\" SVM Accuracy : {acc3}\")\n",
    "print(\"Classification Report:\")\n",
    "print(classification_report(y_test,y_pred3))"
   ]
  },
  {
   "cell_type": "code",
   "execution_count": 91,
   "id": "6455eda5",
   "metadata": {},
   "outputs": [
    {
     "name": "stdout",
     "output_type": "stream",
     "text": [
      " Random Forest Accuracy : 0.8496098368408608\n",
      "Classification Report:\n",
      "              precision    recall  f1-score   support\n",
      "\n",
      "           0       0.84      0.87      0.85      4274\n",
      "           1       0.86      0.83      0.84      4184\n",
      "\n",
      "    accuracy                           0.85      8458\n",
      "   macro avg       0.85      0.85      0.85      8458\n",
      "weighted avg       0.85      0.85      0.85      8458\n",
      "\n"
     ]
    }
   ],
   "source": [
    "# Train a Random Forest model\n",
    "model4=RandomForestClassifier()\n",
    "model4.fit(X_train,y_train)\n",
    "# Predict on test data\n",
    "y_pred4=model4.predict(X_test)\n",
    "# Evaluate performance\n",
    "acc4=accuracy_score(y_test,y_pred4)\n",
    "print(f\" Random Forest Accuracy : {acc4}\")\n",
    "print(\"Classification Report:\")\n",
    "print(classification_report(y_test,y_pred4))"
   ]
  },
  {
   "cell_type": "code",
   "execution_count": 92,
   "id": "856e0570",
   "metadata": {},
   "outputs": [
    {
     "name": "stdout",
     "output_type": "stream",
     "text": [
      " KNN Accuracy : 0.6162213289193663\n",
      "Classification Report:\n",
      "              precision    recall  f1-score   support\n",
      "\n",
      "           0       0.57      0.96      0.72      4274\n",
      "           1       0.87      0.26      0.40      4184\n",
      "\n",
      "    accuracy                           0.62      8458\n",
      "   macro avg       0.72      0.61      0.56      8458\n",
      "weighted avg       0.72      0.62      0.56      8458\n",
      "\n"
     ]
    }
   ],
   "source": [
    "# Train a  KNN model\n",
    "model5=KNeighborsClassifier()\n",
    "model5.fit(X_train,y_train)\n",
    "# Predict on test data\n",
    "y_pred5=model5.predict(X_test)\n",
    "# Evaluate performance\n",
    "acc5=accuracy_score(y_test,y_pred5)\n",
    "print(f\" KNN Accuracy : {acc5}\")\n",
    "print(\"Classification Report:\")\n",
    "print(classification_report(y_test,y_pred5))"
   ]
  },
  {
   "cell_type": "code",
   "execution_count": 93,
   "id": "f240f265",
   "metadata": {},
   "outputs": [
    {
     "name": "stdout",
     "output_type": "stream",
     "text": [
      "Extra Trees Accuracy: 0.8687633010167889\n",
      "Classification Report:\n",
      "              precision    recall  f1-score   support\n",
      "\n",
      "           0       0.85      0.89      0.87      4274\n",
      "           1       0.89      0.84      0.86      4184\n",
      "\n",
      "    accuracy                           0.87      8458\n",
      "   macro avg       0.87      0.87      0.87      8458\n",
      "weighted avg       0.87      0.87      0.87      8458\n",
      "\n"
     ]
    }
   ],
   "source": [
    "# Train a Extra Trees Classifier \n",
    "model6 = ExtraTreesClassifier()\n",
    "model6.fit(X_train, y_train)\n",
    "# Predict on test data\n",
    "y_pred6 = model6.predict(X_test)\n",
    "# Evaluate performance\n",
    "acc6 = accuracy_score(y_test, y_pred6)\n",
    "print(f\"Extra Trees Accuracy: {acc6}\")\n",
    "print(\"Classification Report:\")\n",
    "print(classification_report(y_test, y_pred6))"
   ]
  },
  {
   "cell_type": "code",
   "execution_count": 94,
   "id": "bc7c4cd1",
   "metadata": {},
   "outputs": [
    {
     "name": "stdout",
     "output_type": "stream",
     "text": [
      "HistGradientBoosting Accuracy: 0.8395601797115158\n",
      "Classification Report:\n",
      "              precision    recall  f1-score   support\n",
      "\n",
      "           0       0.85      0.83      0.84      4274\n",
      "           1       0.83      0.85      0.84      4184\n",
      "\n",
      "    accuracy                           0.84      8458\n",
      "   macro avg       0.84      0.84      0.84      8458\n",
      "weighted avg       0.84      0.84      0.84      8458\n",
      "\n"
     ]
    }
   ],
   "source": [
    "# Train a Histogram Gradient Boosting Classifier model\n",
    "model7 = HistGradientBoostingClassifier()\n",
    "model7.fit(X_train, y_train)\n",
    "# Predict on test data\n",
    "y_pred7 = model7.predict(X_test)\n",
    "# Evaluate performance\n",
    "acc7 = accuracy_score(y_test, y_pred7)\n",
    "print(f\"HistGradientBoosting Accuracy: {acc7}\")\n",
    "print(\"Classification Report:\")\n",
    "print(classification_report(y_test, y_pred7))"
   ]
  },
  {
   "cell_type": "code",
   "execution_count": 95,
   "id": "33344caf",
   "metadata": {},
   "outputs": [
    {
     "name": "stdout",
     "output_type": "stream",
     "text": [
      "                  Model  Accuracy  Precision    Recall  F1 Score\n",
      "2       SVM (LinearSVC)  0.875975   0.876170  0.872610  0.874386\n",
      "5           Extra Trees  0.868763   0.885793  0.843451  0.864104\n",
      "1   Logistic Regression  0.866635   0.853868  0.881214  0.867325\n",
      "3         Random Forest  0.849610   0.862369  0.828155  0.844916\n",
      "0           Naive Bayes  0.848309   0.862897  0.824331  0.843173\n",
      "6  HistGradientBoosting  0.839560   0.827730  0.853250  0.840297\n",
      "4                   KNN  0.616221   0.874003  0.261950  0.403089\n"
     ]
    }
   ],
   "source": [
    "import pandas as pd\n",
    "from sklearn.metrics import precision_score, recall_score, f1_score\n",
    "\n",
    "results = {\n",
    "    'Model': ['Naive Bayes', 'Logistic Regression', 'SVM (LinearSVC)', 'Random Forest', 'KNN', 'Extra Trees','HistGradientBoosting'],\n",
    "    'Accuracy': [acc1, acc2, acc3, acc4, acc5, acc6,acc7],\n",
    "    'Precision': [\n",
    "        precision_score(y_test, y_pred1),\n",
    "        precision_score(y_test, y_pred2),\n",
    "        precision_score(y_test, y_pred3),\n",
    "        precision_score(y_test, y_pred4),\n",
    "        precision_score(y_test, y_pred5),\n",
    "        precision_score(y_test, y_pred6),\n",
    "        precision_score(y_test, y_pred7)\n",
    "    ],\n",
    "    'Recall': [\n",
    "        recall_score(y_test, y_pred1),\n",
    "        recall_score(y_test, y_pred2),\n",
    "        recall_score(y_test, y_pred3),\n",
    "        recall_score(y_test, y_pred4),\n",
    "        recall_score(y_test, y_pred5),\n",
    "        recall_score(y_test, y_pred6),\n",
    "        recall_score(y_test, y_pred7)\n",
    "    ],\n",
    "    'F1 Score': [\n",
    "        f1_score(y_test, y_pred1),\n",
    "        f1_score(y_test, y_pred2),\n",
    "        f1_score(y_test, y_pred3),\n",
    "        f1_score(y_test, y_pred4),\n",
    "        f1_score(y_test, y_pred5),\n",
    "        f1_score(y_test, y_pred6),\n",
    "        f1_score(y_test, y_pred7)\n",
    "    ]\n",
    "}\n",
    "\n",
    "\n",
    "results_df = pd.DataFrame(results)\n",
    "\n",
    "\n",
    "results_df = results_df.sort_values(by='Accuracy', ascending=False)\n",
    "\n",
    "\n",
    "print(results_df)\n"
   ]
  },
  {
   "cell_type": "code",
   "execution_count": 96,
   "id": "a369c984",
   "metadata": {},
   "outputs": [
    {
     "data": {
      "text/plain": [
       "['reviews_fake_detection_model.pkl']"
      ]
     },
     "execution_count": 96,
     "metadata": {},
     "output_type": "execute_result"
    }
   ],
   "source": [
    "import joblib\n",
    "# Save the trained TF-IDF vectorizer to a file\n",
    "# This allows you to reuse the same vectorizer during prediction/inference time\n",
    "joblib.dump(vectorizer, 'tfidf_vectorizer_reviews.pkl')\n",
    "# Save the trained machine learning model (Extra Trees in this case) to a file\n",
    "# You can later load this model for predictions without retraining\n",
    "joblib.dump(model3, 'reviews_fake_detection_model.pkl')"
   ]
  },
  {
   "cell_type": "code",
   "execution_count": 97,
   "id": "767d06e3",
   "metadata": {},
   "outputs": [],
   "source": [
    "def predict_spam(text):\n",
    "    cleaned_text = clean_text(text)  \n",
    "    vectorized_text = vectorizer.transform([cleaned_text])\n",
    "    prediction = model3.predict(vectorized_text)\n",
    "    return \"OR\" if prediction == 1 else \"CG\""
   ]
  },
  {
   "cell_type": "code",
   "execution_count": null,
   "id": "ebafdf63",
   "metadata": {},
   "outputs": [],
   "source": [
    "review = input(\"Enter a review: \")\n",
    "print(\"Prediction:\", predict_spam(review))"
   ]
  }
 ],
 "metadata": {
  "kernelspec": {
   "display_name": "Python 3",
   "language": "python",
   "name": "python3"
  },
  "language_info": {
   "codemirror_mode": {
    "name": "ipython",
    "version": 3
   },
   "file_extension": ".py",
   "mimetype": "text/x-python",
   "name": "python",
   "nbconvert_exporter": "python",
   "pygments_lexer": "ipython3",
   "version": "3.13.5"
  }
 },
 "nbformat": 4,
 "nbformat_minor": 5
}
